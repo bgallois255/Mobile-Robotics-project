{
 "cells": [
  {
   "cell_type": "markdown",
   "metadata": {},
   "source": [
    "Thymio mini project"
   ]
  },
  {
   "cell_type": "code",
   "execution_count": 1,
   "metadata": {},
   "outputs": [
    {
     "name": "stdout",
     "output_type": "stream",
     "text": [
      "Requirement already satisfied: tdmclient in c:\\users\\rapha\\appdata\\local\\programs\\python\\python311\\lib\\site-packages (0.1.21)\n",
      "Requirement already satisfied: websockets in c:\\users\\rapha\\appdata\\local\\programs\\python\\python311\\lib\\site-packages (from tdmclient) (11.0.3)\n",
      "Requirement already satisfied: zeroconf in c:\\users\\rapha\\appdata\\local\\programs\\python\\python311\\lib\\site-packages (from tdmclient) (0.112.0)\n",
      "Requirement already satisfied: ifaddr>=0.1.7 in c:\\users\\rapha\\appdata\\local\\programs\\python\\python311\\lib\\site-packages (from zeroconf->tdmclient) (0.2.0)\n"
     ]
    }
   ],
   "source": [
    "!pip install --upgrade tdmclient"
   ]
  },
  {
   "cell_type": "code",
   "execution_count": 2,
   "metadata": {},
   "outputs": [],
   "source": [
    "# import libraries\n",
    "import time\n",
    "from tdmclient import ClientAsync\n",
    "\n",
    "# import project files\n",
    "import constants as cst\n",
    "import extended_Kalman_filter as eKf"
   ]
  },
  {
   "cell_type": "code",
   "execution_count": 3,
   "metadata": {},
   "outputs": [
    {
     "data": {
      "text/plain": [
       "Node 101c2fd7-1c04-4e4c-911d-5b3f3b0c1cc6"
      ]
     },
     "execution_count": 3,
     "metadata": {},
     "output_type": "execute_result"
    }
   ],
   "source": [
    "from tdmclient import ClientAsync\n",
    "client = ClientAsync()\n",
    "node = await client.wait_for_node()\n",
    "await node.lock()"
   ]
  },
  {
   "cell_type": "code",
   "execution_count": 4,
   "metadata": {},
   "outputs": [],
   "source": [
    "# Set the motor speeds\n",
    "async def stop_robot():\n",
    "    \"\"\"\n",
    "    Stop the robot. Set the motor speed of each wheel to zero.\n",
    "    \"\"\"\n",
    "    await node.set_variables({\n",
    "            \"motor.left.target\": [0],\n",
    "            \"motor.right.target\": [0],\n",
    "        })\n",
    "\n",
    "async def move_robot(left_speed, right_speed):\n",
    "    \"\"\"\n",
    "    Turn the robot wheels to the given speeds.\n",
    "    Parameter: - left_speed    : left wheel speed in [thymio speed]\n",
    "               - right_speed   : right wheel speed in [thymio speed]\n",
    "    \"\"\"\n",
    "    await node.set_variables({\n",
    "            \"motor.left.target\": [left_speed],\n",
    "            \"motor.right.target\": [right_speed],\n",
    "        })"
   ]
  },
  {
   "cell_type": "code",
   "execution_count": 5,
   "metadata": {},
   "outputs": [
    {
     "data": {
      "text/plain": [
       "\"       \\nx = await get_sensor_values('prox.ground.reflected')\\nprint(x[0], x[1])\\ny = await get_sensor_values('prox.horizontal')\\nprint(y)\\n\""
      ]
     },
     "execution_count": 5,
     "metadata": {},
     "output_type": "execute_result"
    }
   ],
   "source": [
    "# Set the sensor values\n",
    "async def get_sensor_values(sensor_id):\n",
    "    \"\"\"\n",
    "    Get the sensor measurements of a given sensor.\n",
    "    Parameter: - sensor_id    : name of the sensor (a string)\n",
    "    \"\"\"\n",
    "    await node.wait_for_variables({str(sensor_id)})\n",
    "    values = list(node[sensor_id])\n",
    "    return values\n",
    "'''       \n",
    "x = await get_sensor_values('prox.ground.reflected')\n",
    "print(x[0], x[1])\n",
    "y = await get_sensor_values('prox.horizontal')\n",
    "print(y)\n",
    "'''"
   ]
  },
  {
   "cell_type": "code",
   "execution_count": 9,
   "metadata": {},
   "outputs": [
    {
     "name": "stdout",
     "output_type": "stream",
     "text": [
      "[0, 0, 3217, 0, 0, 2268, 1456]\n",
      "[0, 0, 3217, 0, 0, 2268, 1456]\n",
      "[0, 0, 3271, 0, 0, 2358, 1576]\n",
      "[0, 0, 3513, 0, 0, 2394, 1479]\n",
      "[0, 0, 2981, 0, 0, 2467, 1482]\n",
      "[0, 0, 2981, 0, 0, 2467, 1482]\n",
      "[0, 0, 3040, 0, 0, 2659, 1481]\n",
      "[0, 0, 3040, 0, 0, 2659, 1481]\n",
      "[0, 0, 3202, 0, 0, 2841, 1418]\n",
      "[0, 0, 3202, 0, 0, 2841, 1418]\n",
      "[0, 0, 3395, 0, 0, 2742, 1655]\n",
      "[0, 0, 3395, 0, 0, 2742, 1655]\n",
      "[0, 0, 3202, 3288, 0, 2498, 1761]\n",
      "[0, 0, 3202, 3288, 0, 2498, 1761]\n",
      "[0, 0, 0, 3632, 0, 2381, 2038]\n",
      "[0, 0, 0, 3632, 0, 2381, 2038]\n",
      "[0, 0, 0, 3629, 2114, 2336, 2124]\n",
      "[0, 0, 0, 3629, 2114, 2336, 2124]\n",
      "[0, 0, 0, 3629, 2114, 2336, 2124]\n"
     ]
    }
   ],
   "source": [
    "# test thymio\n",
    "# move the robot forward and get prox values.\n",
    "await move_robot(50, 50)\n",
    "dt = 0\n",
    "old_time = time.time()\n",
    "while(dt < 2):\n",
    "    y = await get_sensor_values('prox.horizontal')\n",
    "    print(y)\n",
    "    await client.sleep(0.1)\n",
    "    dt = time.time() - old_time\n",
    "await stop_robot()"
   ]
  },
  {
   "cell_type": "code",
   "execution_count": null,
   "metadata": {},
   "outputs": [],
   "source": []
  }
 ],
 "metadata": {
  "hide_input": false,
  "kernelspec": {
   "display_name": "Python 3",
   "language": "python",
   "name": "python3"
  },
  "language_info": {
   "codemirror_mode": {
    "name": "ipython",
    "version": 3
   },
   "file_extension": ".py",
   "mimetype": "text/x-python",
   "name": "python",
   "nbconvert_exporter": "python",
   "pygments_lexer": "ipython3",
   "version": "3.11.5"
  },
  "toc": {
   "base_numbering": 1,
   "nav_menu": {},
   "number_sections": true,
   "sideBar": true,
   "skip_h1_title": false,
   "title_cell": "Table of Contents",
   "title_sidebar": "Contents",
   "toc_cell": true,
   "toc_position": {
    "height": "calc(100% - 180px)",
    "left": "10px",
    "top": "150px",
    "width": "165px"
   },
   "toc_section_display": true,
   "toc_window_display": false
  }
 },
 "nbformat": 4,
 "nbformat_minor": 4
}
